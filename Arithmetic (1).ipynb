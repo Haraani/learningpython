{
 "cells": [
  {
   "cell_type": "markdown",
   "metadata": {},
   "source": [
    "# Arithmetic Operations in python"
   ]
  },
  {
   "cell_type": "code",
   "execution_count": 1,
   "metadata": {},
   "outputs": [],
   "source": [
    "def addition(x,y):\n",
    "    return x+y"
   ]
  },
  {
   "cell_type": "code",
   "execution_count": 2,
   "metadata": {},
   "outputs": [],
   "source": [
    "def subtraction(x,y):\n",
    "    return x-y "
   ]
  },
  {
   "cell_type": "code",
   "execution_count": 3,
   "metadata": {},
   "outputs": [],
   "source": [
    "def division(x,y):\n",
    "    return x/y"
   ]
  },
  {
   "cell_type": "code",
   "execution_count": 4,
   "metadata": {},
   "outputs": [],
   "source": [
    "def multiply(x,y):\n",
    "    return x*y"
   ]
  },
  {
   "cell_type": "code",
   "execution_count": 5,
   "metadata": {},
   "outputs": [],
   "source": [
    "def mod(x,y):\n",
    "    return x%y"
   ]
  },
  {
   "cell_type": "code",
   "execution_count": 6,
   "metadata": {},
   "outputs": [
    {
     "name": "stdout",
     "output_type": "stream",
     "text": [
      "You've got five options: \n",
      "1. Addition\n",
      "2.Subtraction\n",
      "3.division\n",
      "4.Multiplication\n",
      "5.Modulus\n"
     ]
    }
   ],
   "source": [
    "print(\"You've got five options: \\n1. Addition\\n2.Subtraction\\n3.division\\n4.Multiplication\\n5.Modulus\")\n"
   ]
  },
  {
   "cell_type": "code",
   "execution_count": 7,
   "metadata": {},
   "outputs": [
    {
     "name": "stdout",
     "output_type": "stream",
     "text": [
      "Which would you like to do ?\n",
      "Enter Choice(1, 2, 3, 4 or 5): 3\n"
     ]
    }
   ],
   "source": [
    "print(\"Which would you like to do ?\")\n",
    "select = input(\"Enter Choice(1, 2, 3, 4 or 5): \")"
   ]
  },
  {
   "cell_type": "code",
   "execution_count": 8,
   "metadata": {},
   "outputs": [
    {
     "name": "stdout",
     "output_type": "stream",
     "text": [
      "Enter the first Number: 56.78\n",
      "Enter the second Number: 76.82\n"
     ]
    }
   ],
   "source": [
    "if select in ('1', '2', '3', '4', '5'):\n",
    "    number1 = float(input(\"Enter the first Number: \"))\n",
    "    number2 = float(input(\"Enter the second Number: \"))"
   ]
  },
  {
   "cell_type": "code",
   "execution_count": 9,
   "metadata": {},
   "outputs": [
    {
     "name": "stdout",
     "output_type": "stream",
     "text": [
      "You have selected Multiply:\n",
      "\n",
      " The product of 56.78 and 76.82 is 4361.839599999999\n"
     ]
    }
   ],
   "source": [
    "        if select =='1':\n",
    "            print(\"You have selected Addition:\\n\")\n",
    "            print(\" The Sum of {} and {} is {}\".format(number1, number2, addition(number1,number2)))\n",
    "        elif select == '2':\n",
    "            print(\"You have selected Subtraction:\\n\")\n",
    "            print(\" The Difference between {} and {} is {}\".format(number1, number2, subtract(number1, number2)))\n",
    "        elif select == '3':\n",
    "            print(\"You have selected Multiply:\\n\")\n",
    "            print(\" The product of {} and {} is {}\".format(number1, number2, multiply(number1, number2)))\n",
    "        elif select == '4':\n",
    "            print(\"You have selected Division:\\n\")\n",
    "            print(\" The result when {} is divided by {} is {}\".format(number1, number2, divide(number1, number2)))\n",
    "        elif select == '5':\n",
    "            print(\"You have selected Modulus:\\n\")\n",
    "            print(\" The modulus of {} and {} is {}\".format(number1, number2, modulus(number1, number2)))      \n",
    "        else:\n",
    "            print(\"Invalid Input\")\n"
   ]
  },
  {
   "cell_type": "code",
   "execution_count": null,
   "metadata": {},
   "outputs": [],
   "source": []
  }
 ],
 "metadata": {
  "kernelspec": {
   "display_name": "Python 3",
   "language": "python",
   "name": "python3"
  },
  "language_info": {
   "codemirror_mode": {
    "name": "ipython",
    "version": 3
   },
   "file_extension": ".py",
   "mimetype": "text/x-python",
   "name": "python",
   "nbconvert_exporter": "python",
   "pygments_lexer": "ipython3",
   "version": "3.8.9"
  }
 },
 "nbformat": 4,
 "nbformat_minor": 2
}
